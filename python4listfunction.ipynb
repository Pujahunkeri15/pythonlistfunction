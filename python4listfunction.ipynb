{
 "cells": [
  {
   "cell_type": "markdown",
   "id": "f133d938-6915-4a64-a5b0-0e3d4d65bca8",
   "metadata": {},
   "source": [
    "Question 1 code for inserting elelmemnt in the list."
   ]
  },
  {
   "cell_type": "code",
   "execution_count": 1,
   "id": "3a111143-68bc-4221-ac40-ff77a5c2ea20",
   "metadata": {},
   "outputs": [],
   "source": [
    "l=[34,56,67,'durga','pooja',26]"
   ]
  },
  {
   "cell_type": "code",
   "execution_count": 2,
   "id": "fe2d628b-d1b2-4951-ae66-d0e90203a664",
   "metadata": {},
   "outputs": [],
   "source": [
    "l.insert(2,'yash')"
   ]
  },
  {
   "cell_type": "code",
   "execution_count": 3,
   "id": "69543d6a-cf44-470b-83da-fa805e495c19",
   "metadata": {},
   "outputs": [
    {
     "data": {
      "text/plain": [
       "[34, 56, 'yash', 67, 'durga', 'pooja', 26]"
      ]
     },
     "execution_count": 3,
     "metadata": {},
     "output_type": "execute_result"
    }
   ],
   "source": [
    "l"
   ]
  },
  {
   "cell_type": "markdown",
   "id": "6be2d71e-b276-4c1c-b871-6109efbc4744",
   "metadata": {},
   "source": [
    "Question 2\n",
    "difference between remove() and pop() function?"
   ]
  },
  {
   "cell_type": "code",
   "execution_count": 4,
   "id": "63be0abe-019e-4d87-952c-4dcc5bba50f3",
   "metadata": {},
   "outputs": [],
   "source": [
    "l=[32,34,45,65,78,'pooja','solapur']"
   ]
  },
  {
   "cell_type": "code",
   "execution_count": 6,
   "id": "93e748c7-2019-45a2-8982-f7e88a870c3e",
   "metadata": {},
   "outputs": [],
   "source": [
    "l.remove(32)"
   ]
  },
  {
   "cell_type": "code",
   "execution_count": 7,
   "id": "203af8ca-b235-4975-afed-c1eba32d0504",
   "metadata": {},
   "outputs": [
    {
     "data": {
      "text/plain": [
       "[34, 45, 65, 78, 'pooja', 'solapur']"
      ]
     },
     "execution_count": 7,
     "metadata": {},
     "output_type": "execute_result"
    }
   ],
   "source": [
    "l"
   ]
  },
  {
   "cell_type": "code",
   "execution_count": 9,
   "id": "9eedd734-c194-4b61-86bc-6c730a7f195c",
   "metadata": {},
   "outputs": [
    {
     "data": {
      "text/plain": [
       "78"
      ]
     },
     "execution_count": 9,
     "metadata": {},
     "output_type": "execute_result"
    }
   ],
   "source": [
    "l.pop(3)"
   ]
  },
  {
   "cell_type": "markdown",
   "id": "531bc3fd-3055-40e4-84d8-b0c168f960fc",
   "metadata": {},
   "source": [
    "remove() function remove that perticular number from list and pop() function reurn(delete) element which is present at particular index."
   ]
  },
  {
   "cell_type": "markdown",
   "id": "62af64d6-d7aa-4a3f-86e0-b4c9f092dca1",
   "metadata": {},
   "source": [
    "Question 3 sorting element in their increasing order."
   ]
  },
  {
   "cell_type": "code",
   "execution_count": 10,
   "id": "20c74028-fb9d-4d21-b24c-4b8f5ec4e9ce",
   "metadata": {},
   "outputs": [],
   "source": [
    "l1=[23,34,18,90,45,89]"
   ]
  },
  {
   "cell_type": "code",
   "execution_count": 14,
   "id": "e80426a9-9527-411e-ba5c-7c787229a415",
   "metadata": {},
   "outputs": [],
   "source": [
    "l1.sort()"
   ]
  },
  {
   "cell_type": "code",
   "execution_count": 12,
   "id": "44d98b7a-8f52-43c0-9c76-5c6b7b1a0775",
   "metadata": {},
   "outputs": [
    {
     "data": {
      "text/plain": [
       "[18, 23, 34, 45, 89, 90]"
      ]
     },
     "execution_count": 12,
     "metadata": {},
     "output_type": "execute_result"
    }
   ],
   "source": [
    "l1"
   ]
  },
  {
   "cell_type": "code",
   "execution_count": 15,
   "id": "4c0f5797-0113-410e-bbe7-9e32c725b129",
   "metadata": {},
   "outputs": [],
   "source": [
    "l1.reverse()"
   ]
  },
  {
   "cell_type": "markdown",
   "id": "ab912955-b6d3-4e75-996d-cd250918afc3",
   "metadata": {},
   "source": [
    "the sorted list in descending order"
   ]
  },
  {
   "cell_type": "code",
   "execution_count": 17,
   "id": "55091868-4b29-4993-86c5-1ac983c02797",
   "metadata": {},
   "outputs": [
    {
     "data": {
      "text/plain": [
       "[90, 89, 45, 34, 23, 18]"
      ]
     },
     "execution_count": 17,
     "metadata": {},
     "output_type": "execute_result"
    }
   ],
   "source": [
    "l1"
   ]
  },
  {
   "cell_type": "markdown",
   "id": "611016fb-725b-4e86-99b0-d9b41037a2e8",
   "metadata": {},
   "source": [
    "Question 4 occurance of element in the list."
   ]
  },
  {
   "cell_type": "code",
   "execution_count": 18,
   "id": "68be7ac3-754f-4135-9a7d-bf20b8441a6c",
   "metadata": {},
   "outputs": [],
   "source": [
    "l2=[33,33,45,'tea','tea','tea',33,45,45]"
   ]
  },
  {
   "cell_type": "code",
   "execution_count": 19,
   "id": "439cf9c7-94d8-4758-a240-ef9bfbba57bb",
   "metadata": {},
   "outputs": [
    {
     "data": {
      "text/plain": [
       "3"
      ]
     },
     "execution_count": 19,
     "metadata": {},
     "output_type": "execute_result"
    }
   ],
   "source": [
    "l2.count('tea')"
   ]
  },
  {
   "cell_type": "code",
   "execution_count": 20,
   "id": "5f0d9bc4-177f-4092-af49-a1efc67e1ea0",
   "metadata": {},
   "outputs": [
    {
     "data": {
      "text/plain": [
       "3"
      ]
     },
     "execution_count": 20,
     "metadata": {},
     "output_type": "execute_result"
    }
   ],
   "source": [
    "l2.count(45)"
   ]
  },
  {
   "cell_type": "code",
   "execution_count": 21,
   "id": "9ccec39e-6156-4e85-bde8-0b33079773d2",
   "metadata": {},
   "outputs": [
    {
     "data": {
      "text/plain": [
       "3"
      ]
     },
     "execution_count": 21,
     "metadata": {},
     "output_type": "execute_result"
    }
   ],
   "source": [
    "l2.count(33)"
   ]
  },
  {
   "cell_type": "markdown",
   "id": "80ccc205-9fc9-4ced-9d84-1e4d05f5506e",
   "metadata": {},
   "source": [
    "Question 5  reversing list "
   ]
  },
  {
   "cell_type": "code",
   "execution_count": null,
   "id": "94fdb2a8-b801-463a-9c66-a3795b48e449",
   "metadata": {},
   "outputs": [],
   "source": [
    "l3=['Durga','narendra','pooja','aadarsh','yash',2026]"
   ]
  }
 ],
 "metadata": {
  "kernelspec": {
   "display_name": "Python 3 (ipykernel)",
   "language": "python",
   "name": "python3"
  },
  "language_info": {
   "codemirror_mode": {
    "name": "ipython",
    "version": 3
   },
   "file_extension": ".py",
   "mimetype": "text/x-python",
   "name": "python",
   "nbconvert_exporter": "python",
   "pygments_lexer": "ipython3",
   "version": "3.10.8"
  }
 },
 "nbformat": 4,
 "nbformat_minor": 5
}
